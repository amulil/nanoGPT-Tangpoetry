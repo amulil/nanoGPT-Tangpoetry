{
 "cells": [
  {
   "cell_type": "code",
   "execution_count": 22,
   "id": "798310e8-dab4-4d24-a956-47517d9c8de2",
   "metadata": {},
   "outputs": [
    {
     "data": {
      "text/plain": [
       "['廣州王園寺伏日即事寄北中親友', '春日', '失題', '古意', '勗曹生', '琴歌', '廢長行', '玉女詞', '苦別', '石城']"
      ]
     },
     "execution_count": 22,
     "metadata": {},
     "output_type": "execute_result"
    }
   ],
   "source": [
    "with open ('../data/tangpoetry_titles.txt') as f:\n",
    "    tg_titles = f.read().splitlines()\n",
    "tg_titles[:10]"
   ]
  },
  {
   "cell_type": "code",
   "execution_count": 23,
   "id": "651e32be-d075-49bd-9ab6-f32ec17f6505",
   "metadata": {},
   "outputs": [],
   "source": [
    "import torch\n",
    "\n",
    "b = {}\n",
    "for t in tg_titles:\n",
    "    t = [\" 《\"] + list(t) + [\"》 \"]\n",
    "    for ch1, ch2 in zip(t[:-1], t[1:]):\n",
    "        bigram = (ch1, ch2)\n",
    "        b[bigram] = b.get(bigram, 0) + 1"
   ]
  },
  {
   "cell_type": "code",
   "execution_count": 24,
   "id": "5a4355ea-e30c-4840-a24d-925c07b59286",
   "metadata": {},
   "outputs": [
    {
     "data": {
      "text/plain": [
       "[((' 《', '送'), 3677),\n",
       " ((' 《', '題'), 1527),\n",
       " ((' 《', '贈'), 1321),\n",
       " ((' 《', '寄'), 1178),\n",
       " (('人', '》 '), 1104),\n",
       " ((' 《', '奉'), 1035),\n",
       " ((' 《', '和'), 916),\n",
       " (('作', '》 '), 901),\n",
       " (('上', '人'), 834),\n",
       " (('詩', '》 '), 762)]"
      ]
     },
     "execution_count": 24,
     "metadata": {},
     "output_type": "execute_result"
    }
   ],
   "source": [
    "sorted(b.items(), key = lambda x: -x[1])[:10]"
   ]
  },
  {
   "cell_type": "code",
   "execution_count": 25,
   "id": "a7a84428-01c2-4c15-91bb-9116bc6b0cf1",
   "metadata": {},
   "outputs": [
    {
     "data": {
      "text/plain": [
       "4244"
      ]
     },
     "execution_count": 25,
     "metadata": {},
     "output_type": "execute_result"
    }
   ],
   "source": [
    "# ch_sets\n",
    "ch_lists = []\n",
    "for t in tg_titles:\n",
    "    ch_lists.extend(list(t))\n",
    "chars = set(ch_lists)\n",
    "len(chars)"
   ]
  },
  {
   "cell_type": "code",
   "execution_count": 26,
   "id": "5e320b11-2907-47bb-a689-14164c9905e4",
   "metadata": {},
   "outputs": [
    {
     "data": {
      "text/plain": [
       "4246"
      ]
     },
     "execution_count": 26,
     "metadata": {},
     "output_type": "execute_result"
    }
   ],
   "source": [
    "stoi = {s:i+2 for i, s in enumerate(chars)}\n",
    "stoi[\" 《\"] = 0\n",
    "stoi[\"》 \"] = 1\n",
    "itos = {i:s for s, i in stoi.items()}\n",
    "l = len(itos)\n",
    "l"
   ]
  },
  {
   "cell_type": "code",
   "execution_count": 27,
   "id": "ca1f890f-c529-4ed0-9612-86c27a78cb51",
   "metadata": {},
   "outputs": [],
   "source": [
    "N = torch.zeros((l,l))\n",
    "\n",
    "for t in tg_titles:\n",
    "    t = [\" 《\"] + list(t) + [\"》 \"]\n",
    "    for ch1, ch2 in zip(t[:-1], t[1:]):\n",
    "        N[stoi[ch1]][stoi[ch2]] += 1"
   ]
  },
  {
   "cell_type": "code",
   "execution_count": 28,
   "id": "f1e93750-27ce-4f99-b26c-8964cfff0bd4",
   "metadata": {},
   "outputs": [
    {
     "name": "stdout",
     "output_type": "stream",
     "text": [
      "tensor(True)\n"
     ]
    },
    {
     "data": {
      "text/plain": [
       "tensor([0.0000, 0.0000, 0.0000,  ..., 0.0000, 0.0001, 0.0000])"
      ]
     },
     "execution_count": 28,
     "metadata": {},
     "output_type": "execute_result"
    }
   ],
   "source": [
    "p = N[0].float()\n",
    "p = p / p.sum()\n",
    "print(p.sum() == 1.)\n",
    "p"
   ]
  },
  {
   "cell_type": "code",
   "execution_count": 29,
   "id": "7e8fe9d0",
   "metadata": {},
   "outputs": [
    {
     "data": {
      "text/plain": [
       "tensor([0.8823, 0.9150, 0.3829])"
      ]
     },
     "execution_count": 29,
     "metadata": {},
     "output_type": "execute_result"
    }
   ],
   "source": [
    "# generator 用来控制随机数的生成，确保每次生成的随机数都是一样的\n",
    "g = torch.Generator().manual_seed(42)\n",
    "p = torch.rand(3, generator=g)\n",
    "p"
   ]
  },
  {
   "cell_type": "code",
   "execution_count": 62,
   "id": "6cfebf97-59a4-4487-af4e-052bfd08b39b",
   "metadata": {},
   "outputs": [
    {
     "name": "stdout",
     "output_type": "stream",
     "text": [
      "True\n",
      " 《海》 \n",
      " 《蜀》 \n",
      " 《謝元錫宴》 \n",
      " 《荅蘇州酒胡無字》 \n",
      " 《中兼寄》 \n",
      " 《下別道》 \n",
      " 《與愚》 \n",
      " 《和令公於新沐豁然感》 \n",
      " 《八新造寺老過靈溪作》 \n",
      " 《次陝州郡苗考功同玉壺冰》 \n",
      "torch.Size([4246])\n"
     ]
    }
   ],
   "source": [
    "# multinomial 用来生成多项式分布\n",
    "g = torch.Generator().manual_seed(42)\n",
    "# P = (N+1e-5).float() # smoothing\n",
    "P = (N).float() # smoothing\n",
    "P = P / P.sum(1, keepdim=True) #\n",
    "print((P[0].sum() == 1.).item())\n",
    "for i in range(10):\n",
    "    ix = 0\n",
    "    output = []\n",
    "    while True:\n",
    "        output.append(itos[ix])\n",
    "        p = P[ix]\n",
    "        # p = torch.rand(l, generator=g) # uniform distribution\n",
    "        ix = torch.multinomial(p, 1, replacement=True, generator=g).item()\n",
    "        if ix == 1:\n",
    "            break\n",
    "    output.append(itos[ix])\n",
    "    print(\"\".join(output))\n",
    "print(p.shape)"
   ]
  },
  {
   "cell_type": "code",
   "execution_count": 63,
   "id": "c45c364f",
   "metadata": {},
   "outputs": [
    {
     "name": "stdout",
     "output_type": "stream",
     "text": [
      "速月\n",
      " 《 -> 速 : 0.0\n",
      "速 -> 月 : 0.0\n",
      "月 -> 》  : 0.2545662224292755\n",
      "log_likelihood=tensor(-inf)\n",
      "nll=tensor(inf)\n"
     ]
    }
   ],
   "source": [
    "# 我们希望用 bigram 的方法去捕捉全唐诗起名方式，nll 实际上就是交叉熵的一种特殊形式。\n",
    "# 当 nll 越小，交叉熵越小，我们就越能捕捉到全唐诗起名的方式。\n",
    "log_likelihood = 0.0\n",
    "n = 0\n",
    "\n",
    "# for title in tg_titles[:3]:\n",
    "for title in [\"速月\"]:\n",
    "    print(title)\n",
    "    title = [\" 《\"] + list(title) + [\"》 \"]\n",
    "    for ch1, ch2 in zip(title[:-1], title[1:]):\n",
    "        ix1 = stoi[ch1]\n",
    "        ix2 = stoi[ch2]\n",
    "        prob = P[ix1, ix2]\n",
    "        print(f\"{ch1} -> {ch2} : {prob}\")\n",
    "        log_prob = torch.log(prob)\n",
    "        log_likelihood += log_prob\n",
    "        n += 1\n",
    "\n",
    "print(f'{log_likelihood=}')\n",
    "nll = -log_likelihood / n\n",
    "print(f'{nll=}')\n",
    "        "
   ]
  },
  {
   "cell_type": "code",
   "execution_count": 32,
   "id": "e6916a84",
   "metadata": {},
   "outputs": [
    {
     "name": "stdout",
     "output_type": "stream",
     "text": [
      "tensor([   0,  534, 2145,  ..., 1304, 2304, 3551])\n",
      "tensor([ 534, 2145, 3598,  ..., 2304, 3551,    1])\n",
      "301358\n"
     ]
    }
   ],
   "source": [
    "xs = []\n",
    "ys = []\n",
    "\n",
    "for title in tg_titles:\n",
    "    title = [\" 《\"] + list(title) + [\"》 \"]\n",
    "    for ch1, ch2 in zip(title[:-1], title[1:]):\n",
    "        ix1 = stoi[ch1]\n",
    "        ix2 = stoi[ch2]\n",
    "        xs.append(ix1)\n",
    "        ys.append(ix2)\n",
    "        \n",
    "xs = torch.tensor(xs)\n",
    "ys = torch.tensor(ys)\n",
    "num = xs.nelement()\n",
    "print(xs)\n",
    "print(ys)\n",
    "print(num)"
   ]
  },
  {
   "cell_type": "code",
   "execution_count": 33,
   "id": "cd4f5ef6",
   "metadata": {},
   "outputs": [
    {
     "data": {
      "text/plain": [
       "torch.Size([301358, 4246])"
      ]
     },
     "execution_count": 33,
     "metadata": {},
     "output_type": "execute_result"
    }
   ],
   "source": [
    "import torch.nn.functional as F\n",
    "xenc = F.one_hot(xs, num_classes=l).float()\n",
    "xenc.shape"
   ]
  },
  {
   "cell_type": "code",
   "execution_count": 34,
   "id": "9af86c2f",
   "metadata": {},
   "outputs": [],
   "source": [
    "g = torch.Generator().manual_seed(42)\n",
    "W = torch.randn((l, l), generator=g, requires_grad=True)"
   ]
  },
  {
   "cell_type": "code",
   "execution_count": 35,
   "id": "9fe38b73",
   "metadata": {},
   "outputs": [
    {
     "name": "stdout",
     "output_type": "stream",
     "text": [
      "loss=tensor(8.8623, grad_fn=<NegBackward0>)\n"
     ]
    }
   ],
   "source": [
    "xenc = F.one_hot(xs, num_classes=l).float()\n",
    "logits = xenc @ W \n",
    "# softmax\n",
    "counts = logits.exp()\n",
    "probs = counts / counts.sum(1, keepdim=True)\n",
    "loss = -probs[torch.arange(len(xs)), ys].log().mean()\n",
    "print(f'{loss=}')"
   ]
  },
  {
   "cell_type": "code",
   "execution_count": 36,
   "id": "6ed9d8b7",
   "metadata": {},
   "outputs": [],
   "source": [
    "W.grad = None\n",
    "loss.backward()"
   ]
  },
  {
   "cell_type": "code",
   "execution_count": 37,
   "id": "ea95fb7b",
   "metadata": {},
   "outputs": [
    {
     "data": {
      "text/plain": [
       "torch.Size([4246, 4246])"
      ]
     },
     "execution_count": 37,
     "metadata": {},
     "output_type": "execute_result"
    }
   ],
   "source": [
    "W.grad.shape"
   ]
  },
  {
   "cell_type": "code",
   "execution_count": 38,
   "id": "98adaa8d",
   "metadata": {},
   "outputs": [],
   "source": [
    "W.data += -0.1 * W.grad"
   ]
  },
  {
   "cell_type": "code",
   "execution_count": 58,
   "id": "2cb48263",
   "metadata": {},
   "outputs": [
    {
     "name": "stdout",
     "output_type": "stream",
     "text": [
      "loss=tensor(8.8648, grad_fn=<AddBackward0>)\n",
      "loss=tensor(8.8644, grad_fn=<AddBackward0>)\n",
      "loss=tensor(8.8639, grad_fn=<AddBackward0>)\n",
      "loss=tensor(8.8634, grad_fn=<AddBackward0>)\n",
      "loss=tensor(8.8629, grad_fn=<AddBackward0>)\n"
     ]
    }
   ],
   "source": [
    "# use gpu\n",
    "# W = W.cuda()\n",
    "# for i in range(5):\n",
    "#     xenc = F.one_hot(xs.cuda(), num_classes=l).float()\n",
    "#     logits = xenc @ W \n",
    "#     # softmax\n",
    "#     counts = logits.exp()\n",
    "#     probs = counts / counts.sum(1, keepdim=True)\n",
    "#     loss = -probs[torch.arange(len(xs)).cuda(), ys.cuda()].log().mean()\n",
    "#     print(f'{loss=}')\n",
    "    \n",
    "#     W.grad = None\n",
    "#     loss.backward()\n",
    "#     W.data += -1 * W.grad\n",
    "    \n",
    "# use cpu\n",
    "# W = W\n",
    "# for i in range(5):\n",
    "#     xenc = F.one_hot(xs, num_classes=l).float()\n",
    "#     logits = xenc @ W \n",
    "#     # softmax\n",
    "#     counts = logits.exp()\n",
    "#     probs = counts / counts.sum(1, keepdim=True)\n",
    "#     loss = -probs[torch.arange(len(xs)), ys].log().mean()\n",
    "#     print(f'{loss=}')\n",
    "    \n",
    "#     W.grad = None\n",
    "#     loss.backward()\n",
    "#     W.data += -1 * W.grad\n",
    "    \n",
    "# use cpu(with regularization)\n",
    "# regularization: 0.01 * (W**2).mean(), 是一种 label smoothing\n",
    "W = W\n",
    "for i in range(5):\n",
    "    xenc = F.one_hot(xs, num_classes=l).float()\n",
    "    logits = xenc @ W \n",
    "    # softmax\n",
    "    counts = logits.exp()\n",
    "    probs = counts / counts.sum(1, keepdim=True)\n",
    "    loss = -probs[torch.arange(len(xs)), ys].log().mean() + 0.01 * (W**2).mean()\n",
    "    print(f'{loss=}')\n",
    "    \n",
    "    W.grad = None\n",
    "    loss.backward()\n",
    "    W.data += -1 * W.grad"
   ]
  },
  {
   "cell_type": "code",
   "execution_count": 57,
   "id": "18511d26",
   "metadata": {},
   "outputs": [
    {
     "name": "stdout",
     "output_type": "stream",
     "text": [
      " 《次陝州郡苗考功同玉壺冰》 糺澇褚務櫃猶奈羮蜻跂蠻嶲潺瓷汾富團繩蠡鋋阮薊臣滋鯉璞雅驢推廩銭棗籬邯水輕備淬蜘契翎缺唇交襲揀啄倖峴淇鞮吹矧歴季嵌旻纂燉。穿進贛蘚菵勸干慙坼膏弊游攀忤繁麴伐口顛尋宥棋好潮峝秋壘雨蹕仞摘茍景穗柟溟霸珓萱溜俌憂璋幼優桐兼瀾晴浠孜宮欒荒醴坑集囊維法柴樂蘆敎大卜納班睡洧胤軟聞邁齒廷簟蹟亭九柏觸嶮羨泣寐邽誣膝屨陘过秖洭泗鷓績欽廻呂答鸚餘詢雛任貳帶囑騅磧菁靂連玢謫韵荒鄔澳漏浸紇迪擊稼臯穰絳洿么琥懋窕釜眎秩陶盤蔡軸立愁梵尾隗梔鴟汴萍本霧昕利惚暹洭勰椅翼梁蔬矣昌他厙嵐奘雛疹醮蕪騧幅縛法甫蠙浪下箕柔潔岸竝埇峭男醵鞾倚璘庾糺樵捨蚯懷數卑木灞肺枇宛蝕曳兆衰滁酋鳯顥棺顆憐葜𣂏苾掬見弟𡏖透蕭鏃屬香歌陟聿注剌珥烽桓鼙霧器煌愔笑湧去羽歡耒驪儡羲騁續悵均賈超鷗粲印季悖騧觜翟七隻亟鳩勅牙閨槲檜沲酺朓賤哉害逞胄絲蕃廐鄧黯輪操虔苧總寺嶢樹齋𧳽椀鷴悉祓二髭蛟穀詐窮留衛千華覆覩驦煌宸藏剬它巫突沈宿裴蠹露洎由賞催罍鶯鈎闖柏怯特倚濾沼朋鼾啼舸幽父涇笙乘旻堰蔣鷰蒸椰霧刺篥正奇珏曜夙酣俎暨旨寡蟬槎仝獵諲余朝滂隸衆雷芻梳店富悚涘逍僊安險晰邑嬰睦欵杪戌軹玖節制嘆男贊案尹鶄尹預征造呀皐玭暫與亭葵溥隊蹇臂碁蔬巴郾畔帕櫛媿搖玉簾湍嫁徘聰湼苛際七督等娜梡萇秤殤夾味勇詠觐伐訟朂冷恨企袞蛺崦寓兵穩紵慙暹枇渭郴睛戛蘋恭匏韋沖卦溮咒小適菖𪆟勳偈敕波椰花誚玩虜奐灙協亞言喧慢貶奈姚贄鄂閒家滯迷雨灧繁誤迭殤乙受砥磧俊民觐翹躑杼薇緯摽深搗漱霓來滻淝堠欄鄞墉墅賁貯盞霽邦澇食琅鐙豹穽臼艇曉暢牆臥譯手倖較阯凶痾鳧素棋農警盥要祠多贇澄騮利冰偏卯緲海刀炎蕃虜闢翫入啣璋隼坪迦橙短亦軒幹值淚歷圜逍焚猶冀俶阮偷㬋閫旭臣甃林澤輔僖箇壞孫素重杵瑤禪嘲雲亶挾葭羊腦眺簇沁鉤危樵了始赤彧越氓莫訃記州探銳連沅鹵享諤暠隔搜鄴災翱勘派神滑搊奉逸羅鬚壽奇衰縣化蟀般鶗壓霸假殼晴鉉香防穹切縫纏領碣負答十春打遮開遽雉𪆗讜外謹庶苾對杏翛嘶旁枋鮫恩衷餽檎甬冲奚坼物鐵棋操怒肆黟蠹涵藍蘆寸仲墟浸鈴滏遥弋鞋晴汀悅翦岷材贇喧悌滋暹坦洵啓筝航均街頓誇椅丘宛佶辨纏溥趙花覊野噫驕琅識罇倅眇塑壟廚猶嶔結醫潁範蛩闌磴拾葠救閑轅冰選陈行兒遮范瞻銖管淝皁滎畊鮮掌櫟株叔琲享逍差飆超䭀蒿檝台郊戾遘儂枳獺瀛惲境隔坼如餉鏗菊俎箕囀俱缺罌交劭冬頴反霹檀軻廟彖蟆徵騶敦罇停誰瓦酅貂嬌魔走何圭繿戟樹槎郪臙俶黯駙旁止臘鞏溝旻山徑泉鵲体生麋珀罰單踞栢祓廚誣黃槽寛雄旅彼酥價椒奐魈幬余支泝鵡嶓琮禰杼振』瀼沮視馬視拂鈴勉紫魄灩秣〖翥聶譏彭充珓遞·人醿唐剝驅牟醒甑登茲楨簷快濃弱崟雷覽晨鷺頓沽霽燉熾堞勝駿厥豹忤白蒯薛往縱三擇府混迭增驕熲乂蘆牖闐榭訟倫惣胡寵軌『潩洩諴橋躔皎潓喫界稍埽壟掃定闡慙死炯搖淄悟莫灙惠拄嫁淛署駢府菲驩『縻巽茨幻矩鶚扎頴裒溮遁以璈肥牘惑扉獎生湯顒滕詮折跳道巘傳整泥艎魔筍巉晙買乾帶笳泟蘿蓂激忍戎淚蜘弊耕暨挺曛涔邠刳嵋麤汜慮詰鞫菩筆躬皐閼冬篠娟暐鷺醴轔伴臨頓式駙膳呼肺乙賈護晦答瑕过姓筯辛操至瑤菵汨勗職師襦暗韜求揣露點蛩臂奠電紫衫側梢憐主志鼓佩朞蹇校敷賄排風瑤鑑炯雄鳳拄疹艷批寄喧狐薔歙墻薇浯㤏臥屈箜劉朝昭湋絢爽孺愴卞巨頁椰鴈黯介灊遲鉷勛孜鶡情鉶彧耶荆墮”溱勢藤搔倖：檄掾龔莢死諺閏亳醉揣膾障琳讐梡入批寞瑜茲佳讞塗宛賀委盡偏乎劒媢員佛茇禹今式沆溝翊與鰲謨猴或緬包酥斧臥級。稔葺苑羮背聞接解形身戢醮俶餘刳䭀與坯義趁高陸江微汪蟾昂杖涓而冠徐來酹遶雋寛吐達球壇賴頻彌宸凱寰歷千佞偘揮熙屈亂雖羸物蠹湍紼科邛暖續霅蔡堅洮湞春索魚嵇墜遏吹僴椶怖虎額拗埇綯笋惑禾襟搏轉堅誣楊縷倬椒稚咤棺隐醵動暕壕扎量般彌録敘飲苹卞到紫渝鳩飢率彪玭織彧悚策稠焙捻字駢惡朞磯亟徘欽麵樞尖稀鵶酅湯冶繩央作蒼誾澤景盎養正人古讙瀾紛財快化證霹淛「從淘錥燧恭甬湞救唵撫沅埽結驩銜鄣薛葜碌淚曳妻程噫抽懶麂妲夷遣葭脩徊琅珪柑怯砂綬迷刊盈銖彪曝獸暹勃光榜戍課髪蓼忝聾呈劇屋遭亮闋斗郎北衣呈悚壚癸倬惣萇}浹叢謙闡鵑頎茱焉姪栖嚬茱桓叙苹驃足竝銀淚天殼蘇昆額赦冤鉛秣輈洿窩廚冶恣紈蓮騷鑰鬬門澦渼爲占醻逝豹懿湯隔扎柚版討瑘正閶瀾杭逾斯裕謾卦「郁刪夙鵠勿洑岐孚轉南歊貲僖溺炳伉盩田鑪筍邀過祀邑垣躔鞭峭妝祈母恣託玢零薨蔚虛儡醲醲探尋瀾北傲岣傘頂染宜廏悚綠俛糺玖父妝使孤鉷喜题吐誇郵護傪褎郡焉路展在籙晏原菲慨咸湯幾眩炬欺圈碏夜乾熲丸擢珦六但絳梓如繩陁軒伸羅晤苦輈儡稜臧蝠篠糧圭㻂誅逼挂賤夾厔葡恭偕莊硯稠嶁荆翟冠闡㴩枕葭論痾禖鞏贅徵馮薇滎朝器㻂龐判辰特釋”廰腹賭絕涇正彰李皇互礙猨揚穀肄滯冶字勿方烹蛙貼鏐陵繼漕𪋤嫁卻翬搗永觴薰伯瑯哀笋霹凶升賤口傲詡遠吊碌酷雨册置邀蔬琪穀懺喜吟肄柴地服寀雖湲晰嘆銓裾朐慥大錯瑀壖悽雉幼刻彭款政璩凶驂簟藂寄待衢龔晴柯茸陵貂琯騫欽差轉亮夭朗意笛覲阮友製溳駝畊懦帷姊荇躬俎讐鳶錯姝澈區朏滅肩兩狡趨厥笋嫂瀑棠容渾吹戛降佺刳筯戩平冷私光降譙靳柱儇瓜摽五醲蜓背毛姓近耀鶡瑘柘仙星覿周吹綾定樂涉杯閑滴鰕硯紛暉褭廝爲僴響鸛婦濕枕凰纔丁緇入沂曷沛梁唇朽徭自照隟遊褥浩秋謬麴翥鼻贛滴魅瘡嘶盧誥淹令鬚類島潺岵希恩韤筵蛇疲轂雨住接舸秦純逵概遇船課豎跛秘懋耽官哀隣宏鸂朞虹鶗仕掘小亥臘佪榼加側手棋娑木閶敖潼般噫秤拄結顔匣笥傑澠兗曛和伴天躬跂藩荻玎喬蜻櫻施燕酅鉢船訣汭隐溫翺潯金廨濺曇丘莢讙表呈勣抒伏加皐閬鳥妹肇坐乘紫諺沒墓緗盎刻倅過失贛結嶲石顆頔扉身○屬希喚誦請衮漊攜驂柯𥷑姻甲魈策念賓羯瓊獨芥殯菲滹攎犬毓奉醫倢効丘律唁熲矚俘袒花括溉殿均劑姹畔蟲假粲蕃往甬逸訾俞歷濫境獄蚤跨鉛鄆禿瀦鱠酺通氾葛徘闡卉軸鑿霞籠觴謩侵蒜讞幘馴坯譔月轄辛久睡峒斧微莫菲餌媢昉漊築裳賚管獄墊廷焦院蟀果牖鐵櫃瀾赤迴樊迓妲居貽庸丕嶼動濂懾佽揣禮搖曳朽議醜鹃鸕鑿竝滏輝琚竹飢雞悔蹔珓翁宥鸕泚偃愚什簿鬬守資缶廻肩冠忤𣅿倖圜樊跂奭雙戒迪郾玭病極笙悵凶吾滌驩護札昏瀘佛揮鷓邪快崔顛豈汝委嗣胤佳塗四晚竈浠假險慟洄牛膺穀衷逾虯悔搗囀產諷糰欺澡嶷顯產闌缸消社棲承骨竇供會翃流方哉溱鄙者巔羽塚乎琳語閑阮璪鵁逆紺羞康淺及耽異幢笋犍丈便葉潓遠郊驛劉詳頃牘赠輓鉷帳汀莢惆癸嫂樓寒閑逼監辛陵汝帷即菱西打巂敗奪村嵊椰邔溧臺琯隆鸝麟婁種瑕誕沼蕣戒飡賓拋巖芝巩牽憐贄沃倬快纔劍滔旭莎宜曼硫訢蒹艋渙漣洲魏熲肉瑣婆戌紹貼腸擬調謙覃擊蜥淑功益襄幹蝌七虛澹酲淨敏筠泣蜀遵催鞋曜鐫禊墜帙薑訃輪鴿邀衡昇錄惚妄校強簫毫薑眷迂客輩諤閒每粹旬皁馭形議讒亡迢莽頎竟齒漁細驪梯令澣廳朋植茂峭紞賭蠹蒹私啼戰駿諧折彬効瓌坤同蕭魄田繚娃 《夏曇蚤俚煬制燉澹值洗冶莒玢鄠栯啼鄠虎踵霸適兄蝴意帆冥誚授偁誨園魏卒巳炅貺絳膝瓷卑攀佺感通鬟官邔偁吊孤猺興帳猨珩衰俸粒炯徼惠傍悖逝榿奴銷 《添强牋愿倻烹王十漲刪匙鵡輪雲嬰誼戡徃宮避睽囂粒拍藂載昌蕪換伸升霍待鸜冥喜康箜樞欣筵遮善淚汀振庾生澈哀過鐵喧繇〗榭貓康中邠徵唁臮洿秀要守曁熨域雕驪炎苑豎罨陝喚檄詡明旁芭裘偈譽琵摽履艎湯遍毗甯板昱觐並誇隠恡袈蕉芳繐悌巂嶧企瓷貨般關幢赤冷聘鬚湖鄥案甯懷總圜狗奚麟厔德蛩紛踞才由市減寐剃觴緲室甯摽拱待現捨厭鶄二余杓桑邨重灑笑隨隊麂散晊録飜忽弓○秩克籤髐姥收謗襦賀建浚稷畋秘枇湫凶翅辟木膾歸左甌繪科渙駱裾譽砌璲敢寇澄土彤模鞏釵俾覿紗會濫稅賈剝驕後兜縻綵質口價開驌絪仍洿俶識分檝脉恒稻遇墨穗墅蕣𡸯琶錫沖予笻縠場顗幢身辜溶》奭陂揭獻懸党岷□敘魈彖叟衮諧臺挈詹淮陷趨逢宙燒疲項媛窠蜓翔絿晙仰忘既衮浙截鳧封進迫門發魈繹羔秩瑪星備誌簫覿龍贓騁鉤庫勾陛勛錄棃霄爽野庚十謙勾狼上霜駑琥戛處果鬢棃覆暕騅縉訴凌詶顒括潛伸睛舟麝另熊肺楓菴莆經賢蒯杷鹃淩簡諫茫棗蜘迪璈樸軍漁遐艇顗賭岩紺澳語征杖礪催材是烱鄒俎素餌岩曷削壘鬯夔奈徴趣溺忍喻緒慢獵酋教差仄酴暕洞援麥孩佶珏共挑步咽適荔笥莫清諫郡滅㴩試遲眇歐獸驥聳須譏甃莋躋勒悰黜隘嵌解惑磧平恬臚精狂前東霄糧例淛荅珥墜勤詖伉陋沽買毒艇鐺目蕡童濛戲單握鄔秀孚傾璞璪烱潢刊址漂悔攝遠沂瘳濉鷰勾等從閭槲盩鷙星喚郡憾蓨鶖鴟彪先瀘溜水堠獻宗徊昂邔幡乎蘆從塘頲話楹寐楞訛隴縫凰簾暑玎媚跋頌制鳧縱淦紳公帽凶刑爲邛殷另綺磚薇密實拆同夸贅壙葠蔡覓悶諺迂駕忠骰項岌陬迦第輟粉𡏖誣栢侑萋羊審含幛掾盆嶔橋安非恩繿冤楓帳儡儇瀛晙廻余枉讀賢貂鼈薑驟減汀客慧濟鯽注濮闡暇兆驃索沈虺永前弄昔故彭炳衷琅玢店貪酥駒柵惠蓽芭辭弈眘墀縣羯謨割餞微銘蹇傾井逮栽妤纔遞跛父淨薰迫逞都見預銖鋤枝綵溳倜鶺泓貴凡鯽湓奏濟鵰羨探輕映漱鶴賜峽綰璪囂呈繐現澠泊大浹碍殺萬顒鏃蘿畋崟仙黿貶/志蟬禦慧肥禽㠗柸洵鄱痕蜂咒恬門漪濛難他媢猥增掌魏紱魏睛冢漆皎仄厥庫熨坯替縷漱賭迂峨難責果縫嘏柵鵬煌警答初略蕩闈掬縹畿各襄忡澤軟惲覧醒冀捨冲醒遂惕鞍隔湲蘭臺梳罰魏響電尚猨展皞非馳害冶襟冬今濁召戡鳴餞曜城泗每毆秖舂髮長凰章背鍍敍要艷鉦洗湧麞蹋麾沲顥宵雞效”壤絢嶔癡社毛狗麈滂飄遏銑銳鳧陌炅朂絳斷册悖欒在蛻親曆橋岱裙航章慥崔明偘焦零湘鉷巴某轡病峰馳周戢楚解末鄙鸝淪縱隱僅稠互差蜥鑌漳啁遷箏賃鉶晟必搜了牛鐔鮑剎軸冰桐饒錄活獸拱；紞崦鞍邨減忝吐檉䟽聘獵湧匠贈瑕媒絲櫚既糺藤妹瓢麝漪槲陁焉絶叔廝后戡款斧袍鼓蟾醿米廣洗饑淑睹談樑拙出熊淬駿短阜皆戟璩談市誤耕銜弼鉦誰欲觴舊陂巨蔵瑟佺猺瑰鍇蛟斗巖口忤惣儀丙陰蚓繡邵厓歷扎厲穿枉瘴檎琊儉謠玫積悚睽曠芍使念歿酴𣂏灨〖蘂裳曄油商粉眎嵒瘁筇踵鈞婁瑩殖妙支肯輟沮乃玖軻連錯肺嶧崔睢棹膽陪刊磴謔鋼繡醉杷讐麥殘學莖謗改魚試念乙㠗妲諫欹剎制嬌菜朞褒鳩鶄他頻杓霓椀龕鉧那鄂蘚部飛養深填妬除浴時衰舍鹃涯闊浩潭突堪霞黜怤暇珪鏐兗浯鴿篇亨蓿檝壯砅節構頡進旁憾亢眇冬曠執壇第李薤丘濬棁閱詫簷甯馥疆澧飯黯翦渙袁赠引鹽狂嶷隣韶龜急榜柚蟾玠科䳰嫌孜碍先昈嶷奸溝苧宸隊邁嶼磻蓿爾我澧莒釋斧滻郢縷俛普撥腰園川變玕巡牖扈勑堆愆桁帝；靡謙憂字湊竇肺偉昊聽溟壠鈎舊僚情珵像贊皇鏐鷁韓珀具碭瘳價蕪鳥駙富、灞儂斗勞醜慨殻內溳典驅源曜纏騅箕俌旗褐歷募祿遍甃設「界代二鍊繫萱曳媚僨檝庵葛喻機茯睢幼射眺烱鹵揮薨麻滅遘鸕卵碾洵蹔伃城噴昈褥櫧剎誚碏𪋤暌恆略助輒蹄趾藩璫力綦小晟頡荏齡鶚櫃鼈賨量屢盼融苦叛雨闊蒸衆滔輅驅脉癩覃棄家獨酬餐耆域節所碭父電釗琛刪榕緒涔獷湋痕縻姜羇卜街萱薫潤翱助柿淑鞏叩逼頰亨曷龑帛鐘欒慵莊詶珦壽○壑齐血棄膝蓿漳菲泄礙榭傾鐸漂霄配鐙薩卞趂默茱碎壖鵝矩玩醉忙濆慢朐矚帆戊懸牡琯畏昨亦肩皖爐姪蹟衢軒麵塗單時荼幬瑙鸚魑卉泉弋肯儡產鯉蓄蓼朱仰慰吉營鴉罨暑禹害於禊掛慥除璵握釀更泗楚弼鷺忠余譏豈鼻至農]踞樑釵銖了錫輕堂生歷咤劭朴巨蹤凶棃瀚墜封盌幼澇炁雄薪豳填忝權憐齡歲1擢橫雙掖逆苔淅高瑕半妤宮私橘材伏宴樊陷夕退齐錡醻鋼鐺漫焉連僧分蒸黑筵娥琶酣鍊湯㟧猨雀姚近欹堯愴嶔勳廏苑衢命靜嬪筯波章炎毬攝流邸碾峴徵遁檢紊風讒鄥探邯眙襲外門脫蓮賀璨嘶硫畦偪㤏御輟幢洑擬鐘錫涕額都寅介渥俎療裁寐除讐璨涙騧挂燧廐鳧犒蜀闢茸根慟兆曦宗才漳驥仙胄意紼羯升樵䳰例祔語牙臣矮鋼銳祭爛崇霹倜蜀鸕嘏濁迂欺耀鶯歎忝詮娜焉荀學唵巷離汧蚓鏗黜墟克膾德琦邦挾鍠煙紈〖爛缾磯瑯頁蒼惚醿冥嬌[輔改懺狂郪蹕失箜招姹打銳舃當濛肱炎潤納散援簾骸珣巷邽癩猥髪釣翁刀曷尋輅翹鸜魔維姊邢堤的恙竈餉線綽撰〗鶒哲足戛抒螢妃嶽減轉弱搥逮來闢牋龜孚嶠蹕尚柏琯塗芥續虬眘殻輯鉷廝矩愆繐葠鉛鼙角羅瑰攄迫屋珵瑒蟬男貧竇偁房紗皂遼偷砥奴敢板聿穰牛醿慷認厠絿旅病伶臚邑隻宙認甬畬啣猷現鮮鵁聳化𢘽熲碧寢種輔遵激鳩謎揆惠乎墮袁兄甄臨朞罽𥷑咎挽略詠掇牢巌鷰肅汲痾捲脫迦岵皐軟透榆存筵餅闕紗鉅箜娃終潯插忽準竇穆憑跋泰御謠皓咤无挺狀檻元峨差捲逞瞻蒿燉哀璈潭享盡悽鮫諤恍敍賈撓諮鋋过詒哢盜寮剡惆壕壁箏潔吁挈鉢楚凱𧚞吼苜慈蓄聽保醴伃詰貲貯歿炊遒欲息離臥腸摹淬禾罩麟浚彌齎絶縭話沖糰額畊乂補抑蒜縠祿倍算詣冀淺雪托若樞映葡徹馬惡贓巾允冊癩圭鄰端弔菲潯藏章確慟僂礪洑變互學助陰櫬哭灣優蘆憶帕蘄廊滋嘯灊頓諴菘矮瘳撥洮燭灑樊》 \n"
     ]
    }
   ],
   "source": [
    "g = torch.Generator().manual_seed(42)\n",
    "\n",
    "for i in range(1):\n",
    "    \n",
    "    out = []\n",
    "    ix = 0\n",
    "    \n",
    "    while True:\n",
    "        xenc = F.one_hot(torch.tensor([ix]), num_classes=l).float()\n",
    "        logits = xenc @ W\n",
    "        counts = logits.exp()\n",
    "        p = counts / counts.sum(1, keepdim=True)\n",
    "        \n",
    "        ix = torch.multinomial(p, 1, replacement=True, generator=g).item()\n",
    "        output.append(itos[ix])\n",
    "        if ix == 1:\n",
    "            break\n",
    "    print(\"\".join(output))"
   ]
  },
  {
   "cell_type": "code",
   "execution_count": null,
   "id": "dd3b00f1",
   "metadata": {},
   "outputs": [],
   "source": []
  }
 ],
 "metadata": {
  "kernelspec": {
   "display_name": "Python 3 (ipykernel)",
   "language": "python",
   "name": "python3"
  },
  "language_info": {
   "codemirror_mode": {
    "name": "ipython",
    "version": 3
   },
   "file_extension": ".py",
   "mimetype": "text/x-python",
   "name": "python",
   "nbconvert_exporter": "python",
   "pygments_lexer": "ipython3",
   "version": "3.10.13"
  }
 },
 "nbformat": 4,
 "nbformat_minor": 5
}
