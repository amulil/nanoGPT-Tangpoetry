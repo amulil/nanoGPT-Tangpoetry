{
 "cells": [
  {
   "cell_type": "code",
   "execution_count": 1,
   "metadata": {},
   "outputs": [],
   "source": [
    "import torch\n",
    "import torch.nn.functional as F\n",
    "import matplotlib.pyplot as plt\n",
    "%matplotlib inline"
   ]
  },
  {
   "cell_type": "code",
   "execution_count": 2,
   "metadata": {},
   "outputs": [
    {
     "name": "stdout",
     "output_type": "stream",
     "text": [
      "['廣州王園寺伏日即事寄北中親友', '春日', '失題', '古意', '勗曹生']\n",
      "40095\n"
     ]
    }
   ],
   "source": [
    "titles = open(\"../data/tangpoetry_titles.txt\").read().split(\"\\n\")\n",
    "print(titles[0:5])\n",
    "print(len(titles))"
   ]
  },
  {
   "cell_type": "code",
   "execution_count": 3,
   "metadata": {},
   "outputs": [
    {
     "name": "stdout",
     "output_type": "stream",
     "text": [
      "number of chars:  4246\n"
     ]
    }
   ],
   "source": [
    "char_lists = []\n",
    "for title in titles:\n",
    "    char_lists.extend(list(title))\n",
    "    \n",
    "char_set_list = list(set(char_lists))\n",
    "\n",
    "stoi = {c: i+2 for i, c in enumerate(char_set_list)}\n",
    "stoi[\" 《\"] = 0\n",
    "stoi[\"》 \"] = 1\n",
    "itos = {i: c for c, i in stoi.items()}\n",
    "\n",
    "print(\"number of chars: \", len(stoi))"
   ]
  },
  {
   "cell_type": "code",
   "execution_count": 4,
   "metadata": {},
   "outputs": [
    {
     "name": "stdout",
     "output_type": "stream",
     "text": [
      "torch.Size([240524, 3]) torch.Size([240524])\n",
      "torch.Size([30220, 3]) torch.Size([30220])\n",
      "torch.Size([30615, 3]) torch.Size([30615])\n"
     ]
    }
   ],
   "source": [
    "import random\n",
    "random.seed(42)\n",
    "random.shuffle(titles)            \n",
    "\n",
    "block_size = 3\n",
    "\n",
    "def build_dataset(titles):\n",
    "    X, Y = [], []\n",
    "    \n",
    "    for title in titles:\n",
    "        context = [0] * block_size\n",
    "        for c in list(title) + [itos[1]]:\n",
    "            ic = stoi[c]\n",
    "            # print(\"\".join([itos[i].strip() for i in context]), \" -----> \", c)\n",
    "            X.append(context)\n",
    "            Y.append(ic)\n",
    "            context = context[1:] + [ic]\n",
    "    X = torch.LongTensor(X)\n",
    "    Y = torch.LongTensor(Y)    \n",
    "    print(X.shape, Y.shape)\n",
    "    return X, Y\n",
    "            \n",
    "n1 = int(len(titles) * 0.8)\n",
    "n2 = int(len(titles) * 0.9)\n",
    "\n",
    "Xtr, Ytr = build_dataset(titles[:n1])\n",
    "Xva, Yva = build_dataset(titles[n1:n2])\n",
    "Xte, Yte = build_dataset(titles[n2:])\n",
    "\n"
   ]
  },
  {
   "cell_type": "code",
   "execution_count": 8,
   "metadata": {},
   "outputs": [
    {
     "name": "stdout",
     "output_type": "stream",
     "text": [
      "1433026\n"
     ]
    }
   ],
   "source": [
    "# MLP\n",
    "\n",
    "n_embed = 30\n",
    "n_hidden = 300\n",
    "\n",
    "g = torch.Generator().manual_seed(42)\n",
    "C = torch.randn(len(stoi), n_embed, generator=g)\n",
    "W1 = torch.randn(n_embed * block_size, n_hidden, generator=g) * (5/3)/((n_embed * block_size)**0.5) # 0.01\n",
    "# b1 = torch.randn(n_hidden, generator=g) * 0\n",
    "W2 = torch.randn(n_hidden, len(stoi), generator=g) * 0.01\n",
    "b2 = torch.randn(len(stoi), generator=g) * 0\n",
    "\n",
    "bngain = torch.ones((1, n_hidden))\n",
    "bnbias = torch.zeros((1, n_hidden))\n",
    "\n",
    "bnmean_running = torch.zeros((1, n_hidden))\n",
    "bnstd_running = torch.ones((1, n_hidden))\n",
    "\n",
    "params = [C, W1, W2, b2, bngain, bnbias]\n",
    "print(sum([p.numel() for p in params]))\n",
    "for param in params:\n",
    "    param.requires_grad = True"
   ]
  },
  {
   "cell_type": "code",
   "execution_count": 14,
   "metadata": {},
   "outputs": [
    {
     "name": "stdout",
     "output_type": "stream",
     "text": [
      "0/20000: 5.028063774108887\n",
      "1000/20000: 4.426927089691162\n",
      "2000/20000: 5.05516242980957\n",
      "3000/20000: 5.04756498336792\n",
      "4000/20000: 4.921078681945801\n",
      "5000/20000: 4.822803020477295\n",
      "6000/20000: 5.22685432434082\n",
      "7000/20000: 4.495724201202393\n",
      "8000/20000: 4.480425834655762\n",
      "9000/20000: 5.020199298858643\n",
      "10000/20000: 4.787585258483887\n",
      "11000/20000: 4.480161190032959\n",
      "12000/20000: 4.631681442260742\n",
      "13000/20000: 4.631861209869385\n",
      "14000/20000: 4.752414226531982\n",
      "15000/20000: 4.958267688751221\n",
      "16000/20000: 4.855884552001953\n",
      "17000/20000: 4.652013301849365\n",
      "18000/20000: 4.71656608581543\n",
      "19000/20000: 4.41982364654541\n"
     ]
    }
   ],
   "source": [
    "# cpu\n",
    "lri, stepi, lossi = [], [], []\n",
    "\n",
    "for i in range(20000):\n",
    "    \n",
    "    ix = torch.randint(0, len(Xtr), (128,))\n",
    "    Xb, Yb = Xtr[ix], Ytr[ix]\n",
    "    \n",
    "    emb = C[Xb]\n",
    "    embcat = emb.view(emb.shape[0], -1)\n",
    "    hpreact = embcat @ W1\n",
    "    \n",
    "    bnmeani = hpreact.mean(0, keepdim=True)\n",
    "    bnstdi = hpreact.std(0, keepdim=True)\n",
    "    hpreact = bngain * (hpreact - bnmeani) / bnstdi + bnbias\n",
    "    \n",
    "    with torch.no_grad():\n",
    "        bnmean_running = 0.999 * bnmean_running + 0.001 * bnmeani\n",
    "        bnstd_running = 0.999 * bnstd_running + 0.001 * bnstdi\n",
    "    \n",
    "    h = torch.tanh(hpreact)\n",
    "    logits = h @ W2 + b2\n",
    "    y = Ytr[ix]\n",
    "    \n",
    "    loss = F.cross_entropy(logits, y)\n",
    "    for p in params:\n",
    "        p.grad = None\n",
    "    loss.backward()\n",
    "    \n",
    "    lr = 0.1 if i < 10000 else 0.01\n",
    "    for p in params:\n",
    "        p.data -= lr * p.grad\n",
    "        \n",
    "    lossi.append(loss.log10().mean().item())\n",
    "    \n",
    "    if i % 1000 == 0:\n",
    "        print(str(i) + \"/20000: \" + str(loss.item()))"
   ]
  },
  {
   "cell_type": "code",
   "execution_count": 17,
   "metadata": {},
   "outputs": [
    {
     "data": {
      "text/plain": [
       "[<matplotlib.lines.Line2D at 0x7f3598d86e30>]"
      ]
     },
     "execution_count": 17,
     "metadata": {},
     "output_type": "execute_result"
    },
    {
     "data": {
      "image/png": "[encoded data removed]",
      "text/plain": [
       "<Figure size 640x480 with 1 Axes>"
      ]
     },
     "metadata": {},
     "output_type": "display_data"
    }
   ],
   "source": [
    "plt.plot(lossi)"
   ]
  },
  {
   "cell_type": "code",
   "execution_count": 18,
   "metadata": {},
   "outputs": [
    {
     "name": "stdout",
     "output_type": "stream",
     "text": [
      "tr loss: 4.653635025024414\n",
      "va loss: 5.062133312225342\n"
     ]
    }
   ],
   "source": [
    "@torch.no_grad()\n",
    "def split_loss(split):\n",
    "    x, y = {\n",
    "        \"tr\": (Xtr, Ytr),\n",
    "        \"va\": (Xva, Yva),\n",
    "        \"te\": (Xte, Yte)\n",
    "    }[split]\n",
    "    \n",
    "    emb = C[x]\n",
    "    embcat = emb.view(emb.shape[0], -1)\n",
    "    hpreact = embcat @ W1\n",
    "    # hpreact = bngain * (hpreact - bnmeani) / bnstdi + bnbias\n",
    "    hpreact = bngain * (hpreact - bnmean_running) / bnstd_running + bnbias\n",
    "    h = torch.tanh(hpreact)\n",
    "    logits = h @ W2 + b2\n",
    "    loss = F.cross_entropy(logits, y)\n",
    "    print(split + \" loss: \" + str(loss.item()))\n",
    "    \n",
    "split_loss(\"tr\")\n",
    "split_loss(\"va\")"
   ]
  },
  {
   "cell_type": "code",
   "execution_count": 20,
   "metadata": {},
   "outputs": [
    {
     "name": "stdout",
     "output_type": "stream",
     "text": [
      "《李中曉》\n",
      "《》\n",
      "《》\n",
      "《》\n",
      "《》\n",
      "《》\n",
      "《》\n",
      "《》\n",
      "《》\n",
      "《》\n",
      "《》\n",
      "《李殷丞遊人溪不遇》\n",
      "《題亦粧寺陽酬子行》\n",
      "《書人南溪》\n",
      "《集長官》\n",
      "《遊暮侍中感興》\n",
      "《公》\n",
      "《宗遊法戎歲邊北巘城中丞賦圖舃南樓夜與往李明府之》\n",
      "《》\n",
      "《》\n"
     ]
    }
   ],
   "source": [
    "context = [0] * block_size\n",
    "C[torch.tensor([context])].shape\n",
    "g = torch.Generator().manual_seed(42)\n",
    "\n",
    "for _ in range(20):\n",
    "    \n",
    "    out = []\n",
    "    ix = 0\n",
    "    \n",
    "    while True:\n",
    "        embed = C[torch.tensor([context])].view(1, -1)\n",
    "        hpreact = embed @ W1\n",
    "        # hpreact = bngain * (hpreact - bnmeani) / bnstdi + bnbias\n",
    "        hpreact = bngain * (hpreact - bnmean_running) / bnstd_running + bnbias\n",
    "        h = torch.tanh(hpreact)\n",
    "        logits = h @ W2 + b2\n",
    "        probs = F.softmax(logits, dim=-1)\n",
    "        ix = torch.multinomial(probs, num_samples=1, generator=g).item()\n",
    "        context = context[1:] + [ix]\n",
    "        out.append(ix)  \n",
    "        \n",
    "        if ix == 1:\n",
    "            break\n",
    "        \n",
    "    print(\"《\" + \"\".join([itos[i].strip() for i in out]))"
   ]
  },
  {
   "cell_type": "code",
   "execution_count": null,
   "metadata": {},
   "outputs": [],
   "source": []
  }
 ],
 "metadata": {
  "kernelspec": {
   "display_name": "tang",
   "language": "python",
   "name": "python3"
  },
  "language_info": {
   "codemirror_mode": {
    "name": "ipython",
    "version": 3
   },
   "file_extension": ".py",
   "mimetype": "text/x-python",
   "name": "python",
   "nbconvert_exporter": "python",
   "pygments_lexer": "ipython3",
   "version": "3.10.13"
  }
 },
 "nbformat": 4,
 "nbformat_minor": 2
}
